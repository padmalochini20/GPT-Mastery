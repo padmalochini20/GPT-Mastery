{
 "cells": [
  {
   "cell_type": "code",
   "execution_count": 1,
   "id": "38ae4905",
   "metadata": {},
   "outputs": [],
   "source": [
    "#import names\n",
    "words = open('makemore/names.txt','r').read().splitlines() # split each line and create list of each lines"
   ]
  },
  {
   "cell_type": "code",
   "execution_count": 2,
   "id": "831fda29",
   "metadata": {},
   "outputs": [
    {
     "data": {
      "text/plain": [
       "['emma',\n",
       " 'olivia',\n",
       " 'ava',\n",
       " 'isabella',\n",
       " 'sophia',\n",
       " 'charlotte',\n",
       " 'mia',\n",
       " 'amelia',\n",
       " 'harper',\n",
       " 'evelyn']"
      ]
     },
     "execution_count": 2,
     "metadata": {},
     "output_type": "execute_result"
    }
   ],
   "source": [
    "words[:10]"
   ]
  },
  {
   "cell_type": "code",
   "execution_count": 3,
   "id": "d67709ee",
   "metadata": {},
   "outputs": [
    {
     "data": {
      "text/plain": [
       "32033"
      ]
     },
     "execution_count": 3,
     "metadata": {},
     "output_type": "execute_result"
    }
   ],
   "source": [
    "len(words)"
   ]
  },
  {
   "cell_type": "code",
   "execution_count": null,
   "id": "a03a81f4",
   "metadata": {},
   "outputs": [],
   "source": [
    "for w in words:\n",
    "    chs = ['.'] + list(w) +['.']\n",
    "    for ch1, ch2 in zip(chs, chs[1:]):"
   ]
  },
  {
   "cell_type": "code",
   "execution_count": 11,
   "id": "3ec3f816",
   "metadata": {},
   "outputs": [],
   "source": [
    "#N = torch.zeros((27, 27), dtype=torch.int32) # 28 ---> 26 alphabets + 1'.' \n",
    "\n",
    "x1 = []           #inputs\n",
    "\n",
    "for w in words:\n",
    "    chs = ['.'] + list(w) +['.']\n",
    "    for ch1, ch2, ch3 in zip(chs, chs[1:], chs[2:]):\n",
    "        x1.append(ch1+ch2)\n",
    "        #print(ch1+ch2,ch3)\n",
    "#         ix1 = stoi[ch1]\n",
    "#         ix2 = stoi[ch2]\n",
    "#         N[ix1, ix2] += 1"
   ]
  },
  {
   "cell_type": "code",
   "execution_count": 13,
   "id": "27a1d094",
   "metadata": {},
   "outputs": [
    {
     "data": {
      "text/plain": [
       "601"
      ]
     },
     "execution_count": 13,
     "metadata": {},
     "output_type": "execute_result"
    }
   ],
   "source": [
    "len(list(set(x1)))"
   ]
  },
  {
   "cell_type": "code",
   "execution_count": 14,
   "id": "42b4e3ee",
   "metadata": {},
   "outputs": [
    {
     "data": {
      "text/plain": [
       "['.e', 'em', 'mm', 'ma', '.o']"
      ]
     },
     "execution_count": 14,
     "metadata": {},
     "output_type": "execute_result"
    }
   ],
   "source": [
    "x1[:5]"
   ]
  },
  {
   "cell_type": "code",
   "execution_count": null,
   "id": "06c2b9ec",
   "metadata": {},
   "outputs": [],
   "source": []
  },
  {
   "cell_type": "code",
   "execution_count": null,
   "id": "f3abad95",
   "metadata": {},
   "outputs": [],
   "source": []
  },
  {
   "cell_type": "code",
   "execution_count": null,
   "id": "885e705d",
   "metadata": {},
   "outputs": [],
   "source": []
  }
 ],
 "metadata": {
  "kernelspec": {
   "display_name": "Python 3 (ipykernel)",
   "language": "python",
   "name": "python3"
  },
  "language_info": {
   "codemirror_mode": {
    "name": "ipython",
    "version": 3
   },
   "file_extension": ".py",
   "mimetype": "text/x-python",
   "name": "python",
   "nbconvert_exporter": "python",
   "pygments_lexer": "ipython3",
   "version": "3.10.6"
  }
 },
 "nbformat": 4,
 "nbformat_minor": 5
}
