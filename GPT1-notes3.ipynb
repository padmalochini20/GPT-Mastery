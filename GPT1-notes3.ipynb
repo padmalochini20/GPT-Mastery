{
 "cells": [
  {
   "cell_type": "code",
   "execution_count": 2,
   "id": "87f02eaf",
   "metadata": {},
   "outputs": [],
   "source": [
    "import numpy as np\n",
    "import torch\n",
    "import torch.nn.functional as F\n",
    "import matplotlib.pyplot as plt\n"
   ]
  },
  {
   "cell_type": "code",
   "execution_count": 3,
   "id": "8bc0adee",
   "metadata": {},
   "outputs": [],
   "source": [
    "# Importing names/words\n",
    "\n",
    "words = open('makemore/names.txt','r').read().splitlines() # split each line and create list of each lines"
   ]
  },
  {
   "cell_type": "code",
   "execution_count": 4,
   "id": "9c111141",
   "metadata": {},
   "outputs": [
    {
     "data": {
      "text/plain": [
       "['emma', 'olivia', 'ava']"
      ]
     },
     "execution_count": 4,
     "metadata": {},
     "output_type": "execute_result"
    }
   ],
   "source": [
    "words[:3]"
   ]
  },
  {
   "cell_type": "code",
   "execution_count": 6,
   "id": "02730737",
   "metadata": {},
   "outputs": [
    {
     "data": {
      "text/plain": [
       "['a',\n",
       " 'b',\n",
       " 'c',\n",
       " 'd',\n",
       " 'e',\n",
       " 'f',\n",
       " 'g',\n",
       " 'h',\n",
       " 'i',\n",
       " 'j',\n",
       " 'k',\n",
       " 'l',\n",
       " 'm',\n",
       " 'n',\n",
       " 'o',\n",
       " 'p',\n",
       " 'q',\n",
       " 'r',\n",
       " 's',\n",
       " 't',\n",
       " 'u',\n",
       " 'v',\n",
       " 'w',\n",
       " 'x',\n",
       " 'y',\n",
       " 'z']"
      ]
     },
     "execution_count": 6,
     "metadata": {},
     "output_type": "execute_result"
    }
   ],
   "source": [
    "char = sorted(list(set(''.join(words)))) # All characters from words\n",
    "char"
   ]
  },
  {
   "cell_type": "code",
   "execution_count": 10,
   "id": "a21a799d",
   "metadata": {},
   "outputs": [
    {
     "data": {
      "text/plain": [
       "{1: 'a',\n",
       " 2: 'b',\n",
       " 3: 'c',\n",
       " 4: 'd',\n",
       " 5: 'e',\n",
       " 6: 'f',\n",
       " 7: 'g',\n",
       " 8: 'h',\n",
       " 9: 'i',\n",
       " 10: 'j',\n",
       " 11: 'k',\n",
       " 12: 'l',\n",
       " 13: 'm',\n",
       " 14: 'n',\n",
       " 15: 'o',\n",
       " 16: 'p',\n",
       " 17: 'q',\n",
       " 18: 'r',\n",
       " 19: 's',\n",
       " 20: 't',\n",
       " 21: 'u',\n",
       " 22: 'v',\n",
       " 23: 'w',\n",
       " 24: 'x',\n",
       " 25: 'y',\n",
       " 26: 'z',\n",
       " 0: '.'}"
      ]
     },
     "execution_count": 10,
     "metadata": {},
     "output_type": "execute_result"
    }
   ],
   "source": [
    "# String to integer dictionary\n",
    "stoi = {s:i+1 for i,s in enumerate(char)}\n",
    "stoi['.']=0\n",
    "\n",
    "# Integer to string dictionary\n",
    "itos = {i:s for s,i in stoi.items()}\n",
    "itos"
   ]
  },
  {
   "cell_type": "code",
   "execution_count": 12,
   "id": "13acc970",
   "metadata": {},
   "outputs": [
    {
     "data": {
      "text/plain": [
       "[0, 0, 0]"
      ]
     },
     "execution_count": 12,
     "metadata": {},
     "output_type": "execute_result"
    }
   ],
   "source": [
    "[0]*3   # Padding/for initialisation"
   ]
  },
  {
   "cell_type": "code",
   "execution_count": 25,
   "id": "fc849967",
   "metadata": {},
   "outputs": [
    {
     "name": "stdout",
     "output_type": "stream",
     "text": [
      "emma\n",
      "... ----> e\n",
      "..e ----> m\n",
      ".em ----> m\n",
      "emm ----> a\n",
      "mma ----> .\n",
      "olivia\n",
      "ma. ----> o\n",
      "a.o ----> l\n",
      ".ol ----> i\n",
      "oli ----> v\n",
      "liv ----> i\n",
      "ivi ----> a\n",
      "via ----> .\n",
      "ava\n",
      "ia. ----> a\n",
      "a.a ----> v\n",
      ".av ----> a\n",
      "ava ----> .\n",
      "isabella\n",
      "va. ----> i\n",
      "a.i ----> s\n",
      ".is ----> a\n",
      "isa ----> b\n",
      "sab ----> e\n",
      "abe ----> l\n",
      "bel ----> l\n",
      "ell ----> a\n",
      "lla ----> .\n",
      "sophia\n",
      "la. ----> s\n",
      "a.s ----> o\n",
      ".so ----> p\n",
      "sop ----> h\n",
      "oph ----> i\n",
      "phi ----> a\n",
      "hia ----> .\n"
     ]
    }
   ],
   "source": [
    "# Building the datasets\n",
    "\n",
    "block_size = 3   # Context length given as input to predict the next character\n",
    "\n",
    "xs = []   # Input \n",
    "ys = []   # Output\n",
    "\n",
    "context = [0] * block_size      # Initializing([0,0,0] ----->  ...)\n",
    "\n",
    "for w in words[:5]:\n",
    "    print(w)\n",
    "    for ch in w+'.':           # Looping each word and appending '.' at the end\n",
    "        ix = stoi[ch]\n",
    "        xs.append(context)\n",
    "        ys.append(ix)\n",
    "        print(''.join(itos[x] for x in context), '---->', ch)\n",
    "        \n",
    "        context = context[1:]+[ix]\n",
    "X = torch.tensor(xs)\n",
    "Y = torch.tensor(ys)"
   ]
  },
  {
   "cell_type": "code",
   "execution_count": 26,
   "id": "6dff8163",
   "metadata": {},
   "outputs": [
    {
     "data": {
      "text/plain": [
       "(torch.Size([32, 3]), torch.Size([32]))"
      ]
     },
     "execution_count": 26,
     "metadata": {},
     "output_type": "execute_result"
    }
   ],
   "source": [
    "X.shape, Y.shape  # Input shape : no. of 3 characters combination extracted from 5 words"
   ]
  },
  {
   "cell_type": "code",
   "execution_count": 28,
   "id": "977cc591",
   "metadata": {},
   "outputs": [
    {
     "data": {
      "text/plain": [
       "torch.Size([32, 3, 2])"
      ]
     },
     "execution_count": 28,
     "metadata": {},
     "output_type": "execute_result"
    }
   ],
   "source": [
    "## Now we create a embedding layer of 2 columns for every 27 possible character outputs to embed with the input layer\n",
    "\n",
    "C = torch.randn((27,2))\n",
    "\n",
    "\n",
    "emb = C[X]    # Embedding layer with inputs - by indexing, the same can be achieved through one-hot encoding which\n",
    "              # is commented below\n",
    "\n",
    "emb.shape\n"
   ]
  },
  {
   "cell_type": "code",
   "execution_count": 29,
   "id": "6b99a669",
   "metadata": {},
   "outputs": [
    {
     "data": {
      "text/plain": [
       "tensor([0, 0, 0, 0, 0, 1, 0, 0, 0, 0, 0, 0, 0, 0, 0, 0, 0, 0, 0, 0, 0, 0, 0, 0,\n",
       "        0, 0, 0])"
      ]
     },
     "execution_count": 29,
     "metadata": {},
     "output_type": "execute_result"
    }
   ],
   "source": [
    "F.one_hot(torch.tensor(5), num_classes=27)"
   ]
  },
  {
   "cell_type": "code",
   "execution_count": 39,
   "id": "04efa622",
   "metadata": {},
   "outputs": [
    {
     "data": {
      "text/plain": [
       "tensor([-0.0916, -0.8972])"
      ]
     },
     "execution_count": 39,
     "metadata": {},
     "output_type": "execute_result"
    }
   ],
   "source": [
    "F.one_hot(torch.tensor(5), num_classes=27).float() @ C    # will give the 5th element in C - one-hot encoding\n",
    "                                                                                   # and matrix multiplication\n"
   ]
  },
  {
   "cell_type": "code",
   "execution_count": 33,
   "id": "14ac5a05",
   "metadata": {},
   "outputs": [
    {
     "data": {
      "text/plain": [
       "tensor([-0.0916, -0.8972])"
      ]
     },
     "execution_count": 33,
     "metadata": {},
     "output_type": "execute_result"
    }
   ],
   "source": [
    "C[5]         # which is the same as indexing the 5th element of embedding "
   ]
  },
  {
   "cell_type": "code",
   "execution_count": 35,
   "id": "86aa26ac",
   "metadata": {},
   "outputs": [
    {
     "data": {
      "text/plain": [
       "tensor([-1.3579, -2.6002])"
      ]
     },
     "execution_count": 35,
     "metadata": {},
     "output_type": "execute_result"
    }
   ],
   "source": [
    "emb[13,2]"
   ]
  },
  {
   "cell_type": "code",
   "execution_count": 36,
   "id": "e36d06a9",
   "metadata": {},
   "outputs": [
    {
     "data": {
      "text/plain": [
       "tensor(1)"
      ]
     },
     "execution_count": 36,
     "metadata": {},
     "output_type": "execute_result"
    }
   ],
   "source": [
    "X[13,2]"
   ]
  },
  {
   "cell_type": "code",
   "execution_count": 37,
   "id": "27ba6270",
   "metadata": {},
   "outputs": [
    {
     "data": {
      "text/plain": [
       "tensor([-1.3579, -2.6002])"
      ]
     },
     "execution_count": 37,
     "metadata": {},
     "output_type": "execute_result"
    }
   ],
   "source": [
    "C[1]"
   ]
  },
  {
   "cell_type": "code",
   "execution_count": 38,
   "id": "061deca0",
   "metadata": {},
   "outputs": [
    {
     "data": {
      "text/plain": [
       "tensor([-1.3579, -2.6002])"
      ]
     },
     "execution_count": 38,
     "metadata": {},
     "output_type": "execute_result"
    }
   ],
   "source": [
    "C[X][13,2]               # Same for different approaches. Get the intuition"
   ]
  },
  {
   "cell_type": "code",
   "execution_count": 61,
   "id": "ddd8fc18",
   "metadata": {},
   "outputs": [],
   "source": [
    "## Now we wanted to create weights and bias of neurons for the next layer\n",
    "\n",
    "####### HIDDEN LAYER ###########\n",
    "\n",
    "# Weights for 100 neurons with 6 input neurons\n",
    "W1 = torch.randn((6,100))    # Note input is 6 rows = 3*2, since we have 2 column embedding each for 2 charater combinatio as i/p\n",
    "\n",
    "# Bias\n",
    "b1 = torch.randn(100)       # bias for 100 neurons\n"
   ]
  },
  {
   "cell_type": "code",
   "execution_count": 41,
   "id": "99953607",
   "metadata": {},
   "outputs": [
    {
     "data": {
      "text/plain": [
       "torch.Size([32, 3, 2])"
      ]
     },
     "execution_count": 41,
     "metadata": {},
     "output_type": "execute_result"
    }
   ],
   "source": [
    "emb.shape"
   ]
  },
  {
   "cell_type": "code",
   "execution_count": 62,
   "id": "da61ee92",
   "metadata": {},
   "outputs": [],
   "source": [
    "# We cannot directly do matrix multiplication as emb @ W + b, since emb is (32x3x2) and (6x100) is not compatible\n",
    "\n",
    "# So we will flatten the embedding layer to 32x6, by concatenating columns\n",
    "\n",
    "h = torch.tanh(emb.view(-1,6) @ W1 +b1)  # which is same as emb.view(emb.shape[0],6) ---> here emb.shape[0] = 32\n",
    "                                         # tanh ---> nonlinearity"
   ]
  },
  {
   "cell_type": "code",
   "execution_count": 43,
   "id": "ff4e7e1a",
   "metadata": {},
   "outputs": [
    {
     "data": {
      "text/plain": [
       "(torch.Size([32, 2]), torch.Size([32, 2]), torch.Size([32, 2]))"
      ]
     },
     "execution_count": 43,
     "metadata": {},
     "output_type": "execute_result"
    }
   ],
   "source": [
    "emb[:,0,:].shape,emb[:,1,:].shape,emb[:,2,:].shape"
   ]
  },
  {
   "cell_type": "code",
   "execution_count": 46,
   "id": "84ad40d1",
   "metadata": {},
   "outputs": [
    {
     "data": {
      "text/plain": [
       "torch.Size([32, 6])"
      ]
     },
     "execution_count": 46,
     "metadata": {},
     "output_type": "execute_result"
    }
   ],
   "source": [
    "# torch concatenation\n",
    "torch.cat((emb[:,0,:],emb[:,1,:],emb[:,2,:]), dim=1).shape"
   ]
  },
  {
   "cell_type": "code",
   "execution_count": 52,
   "id": "906d6841",
   "metadata": {},
   "outputs": [
    {
     "name": "stdout",
     "output_type": "stream",
     "text": [
      "3\n"
     ]
    },
    {
     "data": {
      "text/plain": [
       "torch.Size([32, 6])"
      ]
     },
     "execution_count": 52,
     "metadata": {},
     "output_type": "execute_result"
    }
   ],
   "source": [
    "# Another way to concatenate, first we unbind the second index and then concatenate, here we dont want to specify\n",
    "# manually the no. of dimensions as before. By default, torch.unbind has dim 0\n",
    "print(len(torch.unbind(emb, dim=1)))\n",
    "\n",
    "torch.cat(torch.unbind(emb, dim=1), dim=1).shape"
   ]
  },
  {
   "cell_type": "code",
   "execution_count": 53,
   "id": "3c20bffa",
   "metadata": {},
   "outputs": [
    {
     "data": {
      "text/plain": [
       "tensor([[-0.0178, -1.2964, -0.0178, -1.2964, -0.0178, -1.2964],\n",
       "        [-0.0178, -1.2964, -0.0178, -1.2964, -0.0916, -0.8972],\n",
       "        [-0.0178, -1.2964, -0.0916, -0.8972,  0.6454,  0.1228],\n",
       "        [-0.0916, -0.8972,  0.6454,  0.1228,  0.6454,  0.1228],\n",
       "        [ 0.6454,  0.1228,  0.6454,  0.1228, -1.3579, -2.6002],\n",
       "        [ 0.6454,  0.1228, -1.3579, -2.6002, -0.0178, -1.2964],\n",
       "        [-1.3579, -2.6002, -0.0178, -1.2964, -1.3496,  1.2758],\n",
       "        [-0.0178, -1.2964, -1.3496,  1.2758, -2.0284,  0.6533],\n",
       "        [-1.3496,  1.2758, -2.0284,  0.6533,  0.0216, -0.2812],\n",
       "        [-2.0284,  0.6533,  0.0216, -0.2812,  0.9456,  0.5711],\n",
       "        [ 0.0216, -0.2812,  0.9456,  0.5711,  0.0216, -0.2812],\n",
       "        [ 0.9456,  0.5711,  0.0216, -0.2812, -1.3579, -2.6002],\n",
       "        [ 0.0216, -0.2812, -1.3579, -2.6002, -0.0178, -1.2964],\n",
       "        [-1.3579, -2.6002, -0.0178, -1.2964, -1.3579, -2.6002],\n",
       "        [-0.0178, -1.2964, -1.3579, -2.6002,  0.9456,  0.5711],\n",
       "        [-1.3579, -2.6002,  0.9456,  0.5711, -1.3579, -2.6002],\n",
       "        [ 0.9456,  0.5711, -1.3579, -2.6002, -0.0178, -1.2964],\n",
       "        [-1.3579, -2.6002, -0.0178, -1.2964,  0.0216, -0.2812],\n",
       "        [-0.0178, -1.2964,  0.0216, -0.2812, -1.2176, -0.2032],\n",
       "        [ 0.0216, -0.2812, -1.2176, -0.2032, -1.3579, -2.6002],\n",
       "        [-1.2176, -0.2032, -1.3579, -2.6002, -1.7258, -0.8104],\n",
       "        [-1.3579, -2.6002, -1.7258, -0.8104, -0.0916, -0.8972],\n",
       "        [-1.7258, -0.8104, -0.0916, -0.8972, -2.0284,  0.6533],\n",
       "        [-0.0916, -0.8972, -2.0284,  0.6533, -2.0284,  0.6533],\n",
       "        [-2.0284,  0.6533, -2.0284,  0.6533, -1.3579, -2.6002],\n",
       "        [-2.0284,  0.6533, -1.3579, -2.6002, -0.0178, -1.2964],\n",
       "        [-1.3579, -2.6002, -0.0178, -1.2964, -1.2176, -0.2032],\n",
       "        [-0.0178, -1.2964, -1.2176, -0.2032, -1.3496,  1.2758],\n",
       "        [-1.2176, -0.2032, -1.3496,  1.2758, -2.0982, -0.1753],\n",
       "        [-1.3496,  1.2758, -2.0982, -0.1753,  2.2976,  0.2015],\n",
       "        [-2.0982, -0.1753,  2.2976,  0.2015,  0.0216, -0.2812],\n",
       "        [ 2.2976,  0.2015,  0.0216, -0.2812, -1.3579, -2.6002]])"
      ]
     },
     "execution_count": 53,
     "metadata": {},
     "output_type": "execute_result"
    }
   ],
   "source": [
    "# Another efficient way is using torch.view\n",
    "\n",
    "emb.view(32,6)\n"
   ]
  },
  {
   "cell_type": "code",
   "execution_count": 54,
   "id": "ded0afa2",
   "metadata": {},
   "outputs": [
    {
     "data": {
      "text/plain": [
       "torch.Size([32, 6])"
      ]
     },
     "execution_count": 54,
     "metadata": {},
     "output_type": "execute_result"
    }
   ],
   "source": [
    "emb.view(32,6).shape"
   ]
  },
  {
   "cell_type": "code",
   "execution_count": 55,
   "id": "ba33f68b",
   "metadata": {},
   "outputs": [
    {
     "data": {
      "text/plain": [
       "tensor([[True, True, True, True, True, True],\n",
       "        [True, True, True, True, True, True],\n",
       "        [True, True, True, True, True, True],\n",
       "        [True, True, True, True, True, True],\n",
       "        [True, True, True, True, True, True],\n",
       "        [True, True, True, True, True, True],\n",
       "        [True, True, True, True, True, True],\n",
       "        [True, True, True, True, True, True],\n",
       "        [True, True, True, True, True, True],\n",
       "        [True, True, True, True, True, True],\n",
       "        [True, True, True, True, True, True],\n",
       "        [True, True, True, True, True, True],\n",
       "        [True, True, True, True, True, True],\n",
       "        [True, True, True, True, True, True],\n",
       "        [True, True, True, True, True, True],\n",
       "        [True, True, True, True, True, True],\n",
       "        [True, True, True, True, True, True],\n",
       "        [True, True, True, True, True, True],\n",
       "        [True, True, True, True, True, True],\n",
       "        [True, True, True, True, True, True],\n",
       "        [True, True, True, True, True, True],\n",
       "        [True, True, True, True, True, True],\n",
       "        [True, True, True, True, True, True],\n",
       "        [True, True, True, True, True, True],\n",
       "        [True, True, True, True, True, True],\n",
       "        [True, True, True, True, True, True],\n",
       "        [True, True, True, True, True, True],\n",
       "        [True, True, True, True, True, True],\n",
       "        [True, True, True, True, True, True],\n",
       "        [True, True, True, True, True, True],\n",
       "        [True, True, True, True, True, True],\n",
       "        [True, True, True, True, True, True]])"
      ]
     },
     "execution_count": 55,
     "metadata": {},
     "output_type": "execute_result"
    }
   ],
   "source": [
    "# Element wise checking\n",
    "emb.view(32,6) == torch.cat(torch.unbind(emb, dim=1), dim=1)"
   ]
  },
  {
   "cell_type": "code",
   "execution_count": 58,
   "id": "167d487f",
   "metadata": {},
   "outputs": [
    {
     "data": {
      "text/plain": [
       "torch.Size([32, 100])"
      ]
     },
     "execution_count": 58,
     "metadata": {},
     "output_type": "execute_result"
    }
   ],
   "source": [
    "(emb.view(32,6) @ W1).shape  # 32x6 @ 6x100 -----> 32x100"
   ]
  },
  {
   "cell_type": "code",
   "execution_count": 59,
   "id": "48926952",
   "metadata": {},
   "outputs": [
    {
     "data": {
      "text/plain": [
       "torch.Size([32, 100])"
      ]
     },
     "execution_count": 59,
     "metadata": {},
     "output_type": "execute_result"
    }
   ],
   "source": [
    "h.shape"
   ]
  },
  {
   "cell_type": "code",
   "execution_count": 64,
   "id": "b0df38dc",
   "metadata": {},
   "outputs": [],
   "source": [
    "### Now add a second hidden layer of 27 neurons(possible o/p char) which has 100 input features(h-no. of columns) from the previous layer\n",
    "\n",
    "# weights\n",
    "W2 = torch.randn((100,27))   # I/p 100 rows, O/p 27 columns - no. of neurons - for each possible o/p char\n",
    " \n",
    "# bias\n",
    "b2 = torch.randn(27)"
   ]
  },
  {
   "cell_type": "code",
   "execution_count": 67,
   "id": "6a9b5117",
   "metadata": {},
   "outputs": [
    {
     "data": {
      "text/plain": [
       "torch.Size([32, 27])"
      ]
     },
     "execution_count": 67,
     "metadata": {},
     "output_type": "execute_result"
    }
   ],
   "source": [
    "logits = h @ W2 + b2\n",
    "logits.shape"
   ]
  },
  {
   "cell_type": "code",
   "execution_count": 69,
   "id": "7bd22afb",
   "metadata": {},
   "outputs": [],
   "source": [
    "# Converting logits into probabilities\n",
    "counts = logits.exp()\n",
    "probs = counts/counts.sum(1, keepdims=True)"
   ]
  },
  {
   "cell_type": "code",
   "execution_count": 70,
   "id": "60435ddf",
   "metadata": {},
   "outputs": [
    {
     "data": {
      "text/plain": [
       "(torch.Size([32, 27]), tensor(1.0000))"
      ]
     },
     "execution_count": 70,
     "metadata": {},
     "output_type": "execute_result"
    }
   ],
   "source": [
    "probs.shape, probs[0].sum() # Check"
   ]
  },
  {
   "cell_type": "code",
   "execution_count": 71,
   "id": "5f62a7ca",
   "metadata": {},
   "outputs": [
    {
     "data": {
      "text/plain": [
       "tensor([ 0,  1,  2,  3,  4,  5,  6,  7,  8,  9, 10, 11, 12, 13, 14, 15, 16, 17,\n",
       "        18, 19, 20, 21, 22, 23, 24, 25, 26, 27, 28, 29, 30, 31])"
      ]
     },
     "execution_count": 71,
     "metadata": {},
     "output_type": "execute_result"
    }
   ],
   "source": [
    "torch.arange(X.shape[0])"
   ]
  },
  {
   "cell_type": "code",
   "execution_count": 72,
   "id": "d5282c16",
   "metadata": {},
   "outputs": [
    {
     "data": {
      "text/plain": [
       "tensor([ 5, 13, 13,  1,  0, 15, 12,  9, 22,  9,  1,  0,  1, 22,  1,  0,  9, 19,\n",
       "         1,  2,  5, 12, 12,  1,  0, 19, 15, 16,  8,  9,  1,  0])"
      ]
     },
     "execution_count": 72,
     "metadata": {},
     "output_type": "execute_result"
    }
   ],
   "source": [
    "Y"
   ]
  },
  {
   "cell_type": "code",
   "execution_count": 77,
   "id": "2ba684dc",
   "metadata": {},
   "outputs": [
    {
     "data": {
      "text/plain": [
       "tensor([1.8562e-04, 4.9862e-03, 1.2301e-05, 7.3984e-06, 6.1696e-08, 4.2367e-11,\n",
       "        3.1807e-08, 1.3754e-07, 1.4895e-12, 5.6812e-16, 3.4800e-05, 9.4566e-05,\n",
       "        1.5365e-10, 2.7568e-07, 2.1233e-06, 1.9076e-10, 3.7493e-01, 1.3482e-11,\n",
       "        3.3565e-14, 4.2974e-01, 5.4597e-01, 6.9704e-04, 1.3695e-06, 8.5977e-15,\n",
       "        1.8524e-05, 2.8999e-14, 5.6008e-09, 1.5102e-06, 1.5698e-10, 2.8063e-14,\n",
       "        7.7532e-08, 1.5016e-07])"
      ]
     },
     "execution_count": 77,
     "metadata": {},
     "output_type": "execute_result"
    }
   ],
   "source": [
    "# predicted probability of Y before training the model\n",
    "\n",
    "probs[torch.arange(X.shape[0]), Y] # here the o/p probabilites should be maximum, for the selected char,\n",
    "                                   # Next we will define the loss function to train the model to increase the \n",
    "                                   # predicted probability or minimize the negative log likelihood"
   ]
  },
  {
   "cell_type": "code",
   "execution_count": 75,
   "id": "0b3cb55e",
   "metadata": {},
   "outputs": [
    {
     "data": {
      "text/plain": [
       "torch.Size([32])"
      ]
     },
     "execution_count": 75,
     "metadata": {},
     "output_type": "execute_result"
    }
   ],
   "source": [
    "probs[torch.arange(X.shape[0]), Y].shape  # predicted output probability"
   ]
  },
  {
   "cell_type": "code",
   "execution_count": 79,
   "id": "edd6c519",
   "metadata": {},
   "outputs": [
    {
     "data": {
      "text/plain": [
       "tensor(16.7985)"
      ]
     },
     "execution_count": 79,
     "metadata": {},
     "output_type": "execute_result"
    }
   ],
   "source": [
    "# Loss to minimize - negative log likelihood\n",
    "loss = -probs[torch.arange(X.shape[0]), Y].log().mean()\n",
    "loss"
   ]
  },
  {
   "cell_type": "markdown",
   "id": "305d8bb1",
   "metadata": {},
   "source": [
    "### All put together"
   ]
  },
  {
   "cell_type": "code",
   "execution_count": 80,
   "id": "ab679bde",
   "metadata": {},
   "outputs": [
    {
     "data": {
      "text/plain": [
       "(torch.Size([32, 3]), torch.Size([32]))"
      ]
     },
     "execution_count": 80,
     "metadata": {},
     "output_type": "execute_result"
    }
   ],
   "source": [
    "X.shape, Y.shape    # Dataset"
   ]
  },
  {
   "cell_type": "code",
   "execution_count": 85,
   "id": "fb4c196c",
   "metadata": {},
   "outputs": [],
   "source": [
    "g = torch.Generator().manual_seed(2147483647) # for reproducibility\n",
    "C = torch.randn((27, 2), generator=g)\n",
    "W1 = torch.randn((6, 100), generator=g)\n",
    "b1 = torch.randn(100, generator=g)\n",
    "W2 = torch.randn((100, 27), generator=g)\n",
    "b2 = torch.randn(27, generator=g)\n",
    "parameters = [C, W1, b1, W2, b2]"
   ]
  },
  {
   "cell_type": "code",
   "execution_count": 86,
   "id": "815dd32f",
   "metadata": {},
   "outputs": [
    {
     "data": {
      "text/plain": [
       "3481"
      ]
     },
     "execution_count": 86,
     "metadata": {},
     "output_type": "execute_result"
    }
   ],
   "source": [
    "sum(p.nelement() for p in parameters) # total no. of parameters"
   ]
  },
  {
   "cell_type": "code",
   "execution_count": 99,
   "id": "e8d8f28c",
   "metadata": {},
   "outputs": [
    {
     "data": {
      "text/plain": [
       "tensor(17.9138, grad_fn=<NllLossBackward0>)"
      ]
     },
     "execution_count": 99,
     "metadata": {},
     "output_type": "execute_result"
    }
   ],
   "source": [
    "# Forward pass\n",
    "\n",
    "emb = C[X] # 32x3x2\n",
    "h = torch.tanh(emb.view(-1,6) @ W1 +b1) # 32x100\n",
    "logits = h @ W2 + b2 # 32x27\n",
    "\n",
    "# Converting logits into probabilities\n",
    "# counts = logits.exp()\n",
    "# probs = counts/counts.sum(1, keepdims=True)\n",
    "# loss = -probs[torch.arange(X.shape[0]), Y].log().mean()\n",
    "\n",
    "# the above commented steps can be simplified and can be calculated efficiently using F.crossentropy\n",
    "loss = F.cross_entropy(logits,Y)\n",
    "loss"
   ]
  },
  {
   "cell_type": "code",
   "execution_count": 94,
   "id": "af7844c9",
   "metadata": {},
   "outputs": [],
   "source": [
    "for p in parameters:\n",
    "    p.requires_grad = True"
   ]
  },
  {
   "cell_type": "code",
   "execution_count": 100,
   "id": "bd796fbc",
   "metadata": {},
   "outputs": [],
   "source": [
    "# Backward pass\n",
    "\n",
    "for p in parameters:\n",
    "    p.grad = None\n",
    "loss.backward()\n",
    "for p in parameters:\n",
    "    p.data += -0.1 * p.grad"
   ]
  },
  {
   "cell_type": "code",
   "execution_count": 103,
   "id": "2d74dce4",
   "metadata": {},
   "outputs": [
    {
     "name": "stdout",
     "output_type": "stream",
     "text": [
      "0.09068124741315842\n",
      "0.08945374935865402\n",
      "0.08825261145830154\n",
      "0.0870770663022995\n",
      "0.08592602610588074\n",
      "0.08479874581098557\n",
      "0.08369456231594086\n",
      "0.08261249959468842\n",
      "0.08155222982168198\n",
      "0.08051285147666931\n",
      "0.0794939324259758\n",
      "0.07849489152431488\n",
      "0.07751495391130447\n",
      "0.07655398547649384\n",
      "0.07561105489730835\n",
      "0.07468611747026443\n",
      "0.07377862930297852\n",
      "0.07288781553506851\n",
      "0.0720137357711792\n",
      "0.0711558535695076\n",
      "0.07031374424695969\n",
      "0.06948712468147278\n",
      "0.06867547333240509\n",
      "0.06787864118814468\n",
      "0.06709617376327515\n",
      "0.06632779538631439\n",
      "0.06557326018810272\n",
      "0.06483227759599686\n",
      "0.06410441547632217\n",
      "0.0633896142244339\n",
      "0.06268749386072159\n",
      "0.0619976744055748\n",
      "0.06132009997963905\n",
      "0.06065430864691734\n",
      "0.06000019237399101\n",
      "0.05935748293995857\n",
      "0.05872616916894913\n",
      "0.05810564011335373\n",
      "0.05749575421214104\n",
      "0.056896455585956573\n",
      "0.056307386606931686\n",
      "0.05572844296693802\n",
      "0.05515936017036438\n",
      "0.05459986999630928\n",
      "0.054049912840127945\n",
      "0.05350912734866142\n",
      "0.05297750607132912\n",
      "0.05245478078722954\n",
      "0.05194089561700821\n",
      "0.051435381174087524\n",
      "0.05093813315033913\n",
      "0.050449199974536896\n",
      "0.04996833577752113\n",
      "0.049495238810777664\n",
      "0.04902997240424156\n",
      "0.048572082072496414\n",
      "0.04812171310186386\n",
      "0.04767845943570137\n",
      "0.04724237695336342\n",
      "0.0468132346868515\n",
      "0.04639081656932831\n",
      "0.045975103974342346\n",
      "0.04556594416499138\n",
      "0.045163191854953766\n",
      "0.044766616076231\n",
      "0.04437616467475891\n",
      "0.04399186745285988\n",
      "0.04361344128847122\n",
      "0.04324064031243324\n",
      "0.04287359118461609\n",
      "0.04251215234398842\n",
      "0.04215605556964874\n",
      "0.04180531948804855\n",
      "0.04145989939570427\n",
      "0.041119422763586044\n",
      "0.04078403487801552\n",
      "0.04045356065034866\n",
      "0.04012798145413399\n",
      "0.03980699181556702\n",
      "0.039490632712841034\n",
      "0.03917893394827843\n",
      "0.03887155279517174\n",
      "0.03856857493519783\n",
      "0.03826991841197014\n",
      "0.03797545284032822\n",
      "0.037685099989175797\n",
      "0.0373988039791584\n",
      "0.03711644560098648\n",
      "0.03683796152472496\n",
      "0.036563340574502945\n",
      "0.036292437463998795\n",
      "0.036025188863277435\n",
      "0.03576154261827469\n",
      "0.03550142049789429\n",
      "0.035244788974523544\n",
      "0.034991588443517685\n",
      "0.03474164754152298\n",
      "0.0344950407743454\n",
      "0.03425160422921181\n",
      "0.03401142358779907\n"
     ]
    }
   ],
   "source": [
    "## Put together\n",
    "\n",
    "for i in range(100):\n",
    "    \n",
    "    #minibatch construction \n",
    "    ix = torch.randint(0, X.shape[0], (32,))\n",
    "    \n",
    "    # Forward pass\n",
    "    emb = C[X] # 32x3x2\n",
    "    h = torch.tanh(emb.view(-1,6) @ W1 +b1) # 32x100\n",
    "    logits = h @ W2 + b2 # 32x27\n",
    "    \n",
    "    loss = F.cross_entropy(logits,Y)\n",
    "    print(loss.item())\n",
    "    \n",
    "    # Backward pass\n",
    "\n",
    "    for p in parameters:\n",
    "        p.grad = None\n",
    "    loss.backward()\n",
    "    for p in parameters:\n",
    "        p.data += -0.1 * p.grad\n",
    "    \n",
    "    \n",
    "    "
   ]
  },
  {
   "cell_type": "code",
   "execution_count": 102,
   "id": "d6a5da8b",
   "metadata": {},
   "outputs": [
    {
     "data": {
      "text/plain": [
       "tensor([14, 14,  5, 11,  4,  0, 11,  3,  0,  0,  6,  8,  8, 14,  1,  8, 11,  9,\n",
       "         3, 10,  6,  2,  0, 13, 10,  0,  6, 11,  6,  7,  7, 10])"
      ]
     },
     "execution_count": 102,
     "metadata": {},
     "output_type": "execute_result"
    }
   ],
   "source": [
    "# minibatch construction\n",
    "torch.randint(0,15,(32,)) # integer values containing no.s between 0 and 14 with length 32"
   ]
  },
  {
   "cell_type": "code",
   "execution_count": 104,
   "id": "50bb4fc5",
   "metadata": {},
   "outputs": [
    {
     "data": {
      "text/plain": [
       "tensor([0.0010, 0.0010, 0.0010, 0.0010, 0.0010, 0.0010, 0.0010, 0.0010, 0.0011,\n",
       "        0.0011, 0.0011, 0.0011, 0.0011, 0.0011, 0.0011, 0.0011, 0.0011, 0.0011,\n",
       "        0.0011, 0.0011, 0.0011, 0.0012, 0.0012, 0.0012, 0.0012, 0.0012, 0.0012,\n",
       "        0.0012, 0.0012, 0.0012, 0.0012, 0.0012, 0.0012, 0.0013, 0.0013, 0.0013,\n",
       "        0.0013, 0.0013, 0.0013, 0.0013, 0.0013, 0.0013, 0.0013, 0.0013, 0.0014,\n",
       "        0.0014, 0.0014, 0.0014, 0.0014, 0.0014, 0.0014, 0.0014, 0.0014, 0.0014,\n",
       "        0.0015, 0.0015, 0.0015, 0.0015, 0.0015, 0.0015, 0.0015, 0.0015, 0.0015,\n",
       "        0.0015, 0.0016, 0.0016, 0.0016, 0.0016, 0.0016, 0.0016, 0.0016, 0.0016,\n",
       "        0.0016, 0.0017, 0.0017, 0.0017, 0.0017, 0.0017, 0.0017, 0.0017, 0.0017,\n",
       "        0.0018, 0.0018, 0.0018, 0.0018, 0.0018, 0.0018, 0.0018, 0.0018, 0.0019,\n",
       "        0.0019, 0.0019, 0.0019, 0.0019, 0.0019, 0.0019, 0.0019, 0.0020, 0.0020,\n",
       "        0.0020, 0.0020, 0.0020, 0.0020, 0.0020, 0.0021, 0.0021, 0.0021, 0.0021,\n",
       "        0.0021, 0.0021, 0.0021, 0.0022, 0.0022, 0.0022, 0.0022, 0.0022, 0.0022,\n",
       "        0.0022, 0.0023, 0.0023, 0.0023, 0.0023, 0.0023, 0.0023, 0.0024, 0.0024,\n",
       "        0.0024, 0.0024, 0.0024, 0.0024, 0.0025, 0.0025, 0.0025, 0.0025, 0.0025,\n",
       "        0.0025, 0.0026, 0.0026, 0.0026, 0.0026, 0.0026, 0.0027, 0.0027, 0.0027,\n",
       "        0.0027, 0.0027, 0.0027, 0.0028, 0.0028, 0.0028, 0.0028, 0.0028, 0.0029,\n",
       "        0.0029, 0.0029, 0.0029, 0.0029, 0.0030, 0.0030, 0.0030, 0.0030, 0.0030,\n",
       "        0.0031, 0.0031, 0.0031, 0.0031, 0.0032, 0.0032, 0.0032, 0.0032, 0.0032,\n",
       "        0.0033, 0.0033, 0.0033, 0.0033, 0.0034, 0.0034, 0.0034, 0.0034, 0.0034,\n",
       "        0.0035, 0.0035, 0.0035, 0.0035, 0.0036, 0.0036, 0.0036, 0.0036, 0.0037,\n",
       "        0.0037, 0.0037, 0.0037, 0.0038, 0.0038, 0.0038, 0.0039, 0.0039, 0.0039,\n",
       "        0.0039, 0.0040, 0.0040, 0.0040, 0.0040, 0.0041, 0.0041, 0.0041, 0.0042,\n",
       "        0.0042, 0.0042, 0.0042, 0.0043, 0.0043, 0.0043, 0.0044, 0.0044, 0.0044,\n",
       "        0.0045, 0.0045, 0.0045, 0.0045, 0.0046, 0.0046, 0.0046, 0.0047, 0.0047,\n",
       "        0.0047, 0.0048, 0.0048, 0.0048, 0.0049, 0.0049, 0.0049, 0.0050, 0.0050,\n",
       "        0.0050, 0.0051, 0.0051, 0.0051, 0.0052, 0.0052, 0.0053, 0.0053, 0.0053,\n",
       "        0.0054, 0.0054, 0.0054, 0.0055, 0.0055, 0.0056, 0.0056, 0.0056, 0.0057,\n",
       "        0.0057, 0.0058, 0.0058, 0.0058, 0.0059, 0.0059, 0.0060, 0.0060, 0.0060,\n",
       "        0.0061, 0.0061, 0.0062, 0.0062, 0.0062, 0.0063, 0.0063, 0.0064, 0.0064,\n",
       "        0.0065, 0.0065, 0.0066, 0.0066, 0.0067, 0.0067, 0.0067, 0.0068, 0.0068,\n",
       "        0.0069, 0.0069, 0.0070, 0.0070, 0.0071, 0.0071, 0.0072, 0.0072, 0.0073,\n",
       "        0.0073, 0.0074, 0.0074, 0.0075, 0.0075, 0.0076, 0.0076, 0.0077, 0.0077,\n",
       "        0.0078, 0.0079, 0.0079, 0.0080, 0.0080, 0.0081, 0.0081, 0.0082, 0.0082,\n",
       "        0.0083, 0.0084, 0.0084, 0.0085, 0.0085, 0.0086, 0.0086, 0.0087, 0.0088,\n",
       "        0.0088, 0.0089, 0.0090, 0.0090, 0.0091, 0.0091, 0.0092, 0.0093, 0.0093,\n",
       "        0.0094, 0.0095, 0.0095, 0.0096, 0.0097, 0.0097, 0.0098, 0.0099, 0.0099,\n",
       "        0.0100, 0.0101, 0.0101, 0.0102, 0.0103, 0.0104, 0.0104, 0.0105, 0.0106,\n",
       "        0.0106, 0.0107, 0.0108, 0.0109, 0.0109, 0.0110, 0.0111, 0.0112, 0.0112,\n",
       "        0.0113, 0.0114, 0.0115, 0.0116, 0.0116, 0.0117, 0.0118, 0.0119, 0.0120,\n",
       "        0.0121, 0.0121, 0.0122, 0.0123, 0.0124, 0.0125, 0.0126, 0.0127, 0.0127,\n",
       "        0.0128, 0.0129, 0.0130, 0.0131, 0.0132, 0.0133, 0.0134, 0.0135, 0.0136,\n",
       "        0.0137, 0.0137, 0.0138, 0.0139, 0.0140, 0.0141, 0.0142, 0.0143, 0.0144,\n",
       "        0.0145, 0.0146, 0.0147, 0.0148, 0.0149, 0.0150, 0.0151, 0.0152, 0.0154,\n",
       "        0.0155, 0.0156, 0.0157, 0.0158, 0.0159, 0.0160, 0.0161, 0.0162, 0.0163,\n",
       "        0.0165, 0.0166, 0.0167, 0.0168, 0.0169, 0.0170, 0.0171, 0.0173, 0.0174,\n",
       "        0.0175, 0.0176, 0.0178, 0.0179, 0.0180, 0.0181, 0.0182, 0.0184, 0.0185,\n",
       "        0.0186, 0.0188, 0.0189, 0.0190, 0.0192, 0.0193, 0.0194, 0.0196, 0.0197,\n",
       "        0.0198, 0.0200, 0.0201, 0.0202, 0.0204, 0.0205, 0.0207, 0.0208, 0.0210,\n",
       "        0.0211, 0.0212, 0.0214, 0.0215, 0.0217, 0.0218, 0.0220, 0.0221, 0.0223,\n",
       "        0.0225, 0.0226, 0.0228, 0.0229, 0.0231, 0.0232, 0.0234, 0.0236, 0.0237,\n",
       "        0.0239, 0.0241, 0.0242, 0.0244, 0.0246, 0.0247, 0.0249, 0.0251, 0.0253,\n",
       "        0.0254, 0.0256, 0.0258, 0.0260, 0.0261, 0.0263, 0.0265, 0.0267, 0.0269,\n",
       "        0.0271, 0.0273, 0.0274, 0.0276, 0.0278, 0.0280, 0.0282, 0.0284, 0.0286,\n",
       "        0.0288, 0.0290, 0.0292, 0.0294, 0.0296, 0.0298, 0.0300, 0.0302, 0.0304,\n",
       "        0.0307, 0.0309, 0.0311, 0.0313, 0.0315, 0.0317, 0.0320, 0.0322, 0.0324,\n",
       "        0.0326, 0.0328, 0.0331, 0.0333, 0.0335, 0.0338, 0.0340, 0.0342, 0.0345,\n",
       "        0.0347, 0.0350, 0.0352, 0.0354, 0.0357, 0.0359, 0.0362, 0.0364, 0.0367,\n",
       "        0.0369, 0.0372, 0.0375, 0.0377, 0.0380, 0.0382, 0.0385, 0.0388, 0.0390,\n",
       "        0.0393, 0.0396, 0.0399, 0.0401, 0.0404, 0.0407, 0.0410, 0.0413, 0.0416,\n",
       "        0.0418, 0.0421, 0.0424, 0.0427, 0.0430, 0.0433, 0.0436, 0.0439, 0.0442,\n",
       "        0.0445, 0.0448, 0.0451, 0.0455, 0.0458, 0.0461, 0.0464, 0.0467, 0.0471,\n",
       "        0.0474, 0.0477, 0.0480, 0.0484, 0.0487, 0.0491, 0.0494, 0.0497, 0.0501,\n",
       "        0.0504, 0.0508, 0.0511, 0.0515, 0.0518, 0.0522, 0.0526, 0.0529, 0.0533,\n",
       "        0.0537, 0.0540, 0.0544, 0.0548, 0.0552, 0.0556, 0.0559, 0.0563, 0.0567,\n",
       "        0.0571, 0.0575, 0.0579, 0.0583, 0.0587, 0.0591, 0.0595, 0.0599, 0.0604,\n",
       "        0.0608, 0.0612, 0.0616, 0.0621, 0.0625, 0.0629, 0.0634, 0.0638, 0.0642,\n",
       "        0.0647, 0.0651, 0.0656, 0.0660, 0.0665, 0.0670, 0.0674, 0.0679, 0.0684,\n",
       "        0.0688, 0.0693, 0.0698, 0.0703, 0.0708, 0.0713, 0.0718, 0.0723, 0.0728,\n",
       "        0.0733, 0.0738, 0.0743, 0.0748, 0.0753, 0.0758, 0.0764, 0.0769, 0.0774,\n",
       "        0.0780, 0.0785, 0.0790, 0.0796, 0.0802, 0.0807, 0.0813, 0.0818, 0.0824,\n",
       "        0.0830, 0.0835, 0.0841, 0.0847, 0.0853, 0.0859, 0.0865, 0.0871, 0.0877,\n",
       "        0.0883, 0.0889, 0.0895, 0.0901, 0.0908, 0.0914, 0.0920, 0.0927, 0.0933,\n",
       "        0.0940, 0.0946, 0.0953, 0.0959, 0.0966, 0.0973, 0.0979, 0.0986, 0.0993,\n",
       "        0.1000, 0.1007, 0.1014, 0.1021, 0.1028, 0.1035, 0.1042, 0.1050, 0.1057,\n",
       "        0.1064, 0.1072, 0.1079, 0.1087, 0.1094, 0.1102, 0.1109, 0.1117, 0.1125,\n",
       "        0.1133, 0.1140, 0.1148, 0.1156, 0.1164, 0.1172, 0.1181, 0.1189, 0.1197,\n",
       "        0.1205, 0.1214, 0.1222, 0.1231, 0.1239, 0.1248, 0.1256, 0.1265, 0.1274,\n",
       "        0.1283, 0.1292, 0.1301, 0.1310, 0.1319, 0.1328, 0.1337, 0.1346, 0.1356,\n",
       "        0.1365, 0.1374, 0.1384, 0.1394, 0.1403, 0.1413, 0.1423, 0.1433, 0.1443,\n",
       "        0.1453, 0.1463, 0.1473, 0.1483, 0.1493, 0.1504, 0.1514, 0.1525, 0.1535,\n",
       "        0.1546, 0.1557, 0.1567, 0.1578, 0.1589, 0.1600, 0.1611, 0.1623, 0.1634,\n",
       "        0.1645, 0.1657, 0.1668, 0.1680, 0.1691, 0.1703, 0.1715, 0.1727, 0.1739,\n",
       "        0.1751, 0.1763, 0.1775, 0.1788, 0.1800, 0.1812, 0.1825, 0.1838, 0.1850,\n",
       "        0.1863, 0.1876, 0.1889, 0.1902, 0.1916, 0.1929, 0.1942, 0.1956, 0.1969,\n",
       "        0.1983, 0.1997, 0.2010, 0.2024, 0.2038, 0.2053, 0.2067, 0.2081, 0.2096,\n",
       "        0.2110, 0.2125, 0.2140, 0.2154, 0.2169, 0.2184, 0.2200, 0.2215, 0.2230,\n",
       "        0.2246, 0.2261, 0.2277, 0.2293, 0.2309, 0.2325, 0.2341, 0.2357, 0.2373,\n",
       "        0.2390, 0.2406, 0.2423, 0.2440, 0.2457, 0.2474, 0.2491, 0.2508, 0.2526,\n",
       "        0.2543, 0.2561, 0.2579, 0.2597, 0.2615, 0.2633, 0.2651, 0.2669, 0.2688,\n",
       "        0.2707, 0.2725, 0.2744, 0.2763, 0.2783, 0.2802, 0.2821, 0.2841, 0.2861,\n",
       "        0.2880, 0.2900, 0.2921, 0.2941, 0.2961, 0.2982, 0.3002, 0.3023, 0.3044,\n",
       "        0.3065, 0.3087, 0.3108, 0.3130, 0.3151, 0.3173, 0.3195, 0.3217, 0.3240,\n",
       "        0.3262, 0.3285, 0.3308, 0.3331, 0.3354, 0.3377, 0.3400, 0.3424, 0.3448,\n",
       "        0.3472, 0.3496, 0.3520, 0.3544, 0.3569, 0.3594, 0.3619, 0.3644, 0.3669,\n",
       "        0.3695, 0.3720, 0.3746, 0.3772, 0.3798, 0.3825, 0.3851, 0.3878, 0.3905,\n",
       "        0.3932, 0.3959, 0.3987, 0.4014, 0.4042, 0.4070, 0.4098, 0.4127, 0.4155,\n",
       "        0.4184, 0.4213, 0.4243, 0.4272, 0.4302, 0.4331, 0.4362, 0.4392, 0.4422,\n",
       "        0.4453, 0.4484, 0.4515, 0.4546, 0.4578, 0.4610, 0.4642, 0.4674, 0.4706,\n",
       "        0.4739, 0.4772, 0.4805, 0.4838, 0.4872, 0.4906, 0.4940, 0.4974, 0.5008,\n",
       "        0.5043, 0.5078, 0.5113, 0.5149, 0.5185, 0.5221, 0.5257, 0.5293, 0.5330,\n",
       "        0.5367, 0.5404, 0.5442, 0.5479, 0.5517, 0.5556, 0.5594, 0.5633, 0.5672,\n",
       "        0.5712, 0.5751, 0.5791, 0.5831, 0.5872, 0.5913, 0.5954, 0.5995, 0.6036,\n",
       "        0.6078, 0.6120, 0.6163, 0.6206, 0.6249, 0.6292, 0.6336, 0.6380, 0.6424,\n",
       "        0.6469, 0.6513, 0.6559, 0.6604, 0.6650, 0.6696, 0.6743, 0.6789, 0.6837,\n",
       "        0.6884, 0.6932, 0.6980, 0.7028, 0.7077, 0.7126, 0.7176, 0.7225, 0.7275,\n",
       "        0.7326, 0.7377, 0.7428, 0.7480, 0.7531, 0.7584, 0.7636, 0.7689, 0.7743,\n",
       "        0.7796, 0.7850, 0.7905, 0.7960, 0.8015, 0.8071, 0.8127, 0.8183, 0.8240,\n",
       "        0.8297, 0.8355, 0.8412, 0.8471, 0.8530, 0.8589, 0.8648, 0.8708, 0.8769,\n",
       "        0.8830, 0.8891, 0.8953, 0.9015, 0.9077, 0.9140, 0.9204, 0.9268, 0.9332,\n",
       "        0.9397, 0.9462, 0.9528, 0.9594, 0.9660, 0.9727, 0.9795, 0.9863, 0.9931,\n",
       "        1.0000])"
      ]
     },
     "execution_count": 104,
     "metadata": {},
     "output_type": "execute_result"
    }
   ],
   "source": [
    "# learning rate stats\n",
    "lre = torch.linspace(-3, 0, 1000) # will uniformly distribute numbers from -3 to 0 of length 1000\n",
    "lrs = 10**lre # ranges from 10^-3 = 0.001 to 10^0 = 1\n",
    "lrs"
   ]
  },
  {
   "cell_type": "markdown",
   "id": "4f69dcd2",
   "metadata": {},
   "source": [
    "### Full Dataset implementation"
   ]
  },
  {
   "cell_type": "code",
   "execution_count": 106,
   "id": "ceecfb96",
   "metadata": {},
   "outputs": [
    {
     "data": {
      "text/plain": [
       "(torch.Size([228146, 3]), torch.Size([228146]))"
      ]
     },
     "execution_count": 106,
     "metadata": {},
     "output_type": "execute_result"
    }
   ],
   "source": [
    "## Building the full dataset\n",
    "\n",
    "block_size = 3   # Context length given as input to predict the next character\n",
    "\n",
    "xs = []   # Input \n",
    "ys = []   # Output\n",
    "\n",
    "context = [0] * block_size      # Initializing([0,0,0] ----->  ...)\n",
    "\n",
    "for w in words:\n",
    "    #print(w)\n",
    "    for ch in w+'.':           # Looping each word and appending '.' at the end\n",
    "        ix = stoi[ch]\n",
    "        xs.append(context)\n",
    "        ys.append(ix)\n",
    "        #print(''.join(itos[x] for x in context), '---->', ch)\n",
    "        \n",
    "        context = context[1:]+[ix]\n",
    "X = torch.tensor(xs)\n",
    "Y = torch.tensor(ys)\n",
    "X.shape, Y.shape"
   ]
  },
  {
   "cell_type": "code",
   "execution_count": 144,
   "id": "77e72d04",
   "metadata": {},
   "outputs": [
    {
     "data": {
      "text/plain": [
       "3481"
      ]
     },
     "execution_count": 144,
     "metadata": {},
     "output_type": "execute_result"
    }
   ],
   "source": [
    "# parameters\n",
    "\n",
    "g = torch.Generator().manual_seed(2147483647) # for reproducibility\n",
    "C = torch.randn((27, 2), generator=g)\n",
    "W1 = torch.randn((6, 100), generator=g)\n",
    "b1 = torch.randn(100, generator=g)\n",
    "W2 = torch.randn((100, 27), generator=g)\n",
    "b2 = torch.randn(27, generator=g)\n",
    "parameters = [C, W1, b1, W2, b2]\n",
    "\n",
    "for p in parameters:\n",
    "    p.requires_grad = True\n",
    "\n",
    "sum(p.nelement() for p in parameters) # total no. of parameters"
   ]
  },
  {
   "cell_type": "code",
   "execution_count": 109,
   "id": "21d1065f",
   "metadata": {},
   "outputs": [
    {
     "name": "stdout",
     "output_type": "stream",
     "text": [
      "19.235767364501953\n",
      "18.205915451049805\n",
      "17.299163818359375\n",
      "16.491422653198242\n",
      "15.758024215698242\n",
      "15.081761360168457\n",
      "14.455562591552734\n",
      "13.87472915649414\n",
      "13.335487365722656\n",
      "12.834826469421387\n",
      "12.369384765625\n",
      "11.93510627746582\n",
      "11.527636528015137\n",
      "11.143498420715332\n",
      "10.78066349029541\n",
      "10.438188552856445\n",
      "10.11551570892334\n",
      "9.811924934387207\n",
      "9.52639102935791\n",
      "9.257647514343262\n",
      "9.004352569580078\n",
      "8.76517105102539\n",
      "8.53883171081543\n",
      "8.324150085449219\n",
      "8.120044708251953\n",
      "7.925548553466797\n",
      "7.739816665649414\n",
      "7.5621256828308105\n",
      "7.391858100891113\n",
      "7.2285027503967285\n",
      "7.071643829345703\n",
      "6.920961856842041\n",
      "6.7762346267700195\n",
      "6.637335300445557\n",
      "6.504217624664307\n",
      "6.376903057098389\n",
      "6.255456924438477\n",
      "6.139946460723877\n",
      "6.030383586883545\n",
      "5.926677227020264\n",
      "5.828599452972412\n",
      "5.735795497894287\n",
      "5.647833347320557\n",
      "5.564259052276611\n",
      "5.484633922576904\n",
      "5.408568382263184\n",
      "5.335726261138916\n",
      "5.265825271606445\n",
      "5.198625564575195\n",
      "5.133928298950195\n",
      "5.071559906005859\n",
      "5.011373519897461\n",
      "4.953241348266602\n",
      "4.897049903869629\n",
      "4.842696666717529\n",
      "4.790091037750244\n",
      "4.739150047302246\n",
      "4.6897969245910645\n",
      "4.641963005065918\n",
      "4.595583915710449\n",
      "4.550602912902832\n",
      "4.506965160369873\n",
      "4.464622497558594\n",
      "4.4235310554504395\n",
      "4.383647918701172\n",
      "4.344936370849609\n",
      "4.307360649108887\n",
      "4.270888328552246\n",
      "4.23548698425293\n",
      "4.2011284828186035\n",
      "4.167783260345459\n",
      "4.135425567626953\n",
      "4.104027271270752\n",
      "4.073563575744629\n",
      "4.044007301330566\n",
      "4.0153350830078125\n",
      "3.987521171569824\n",
      "3.960543155670166\n",
      "3.9343760013580322\n",
      "3.9089977741241455\n",
      "3.884384870529175\n",
      "3.8605167865753174\n",
      "3.837369441986084\n",
      "3.81492280960083\n",
      "3.7931549549102783\n",
      "3.7720437049865723\n",
      "3.751568555831909\n",
      "3.7317090034484863\n",
      "3.7124438285827637\n",
      "3.6937527656555176\n",
      "3.6756155490875244\n",
      "3.6580142974853516\n",
      "3.640928030014038\n",
      "3.6243395805358887\n",
      "3.60823130607605\n",
      "3.5925862789154053\n",
      "3.5773873329162598\n",
      "3.5626182556152344\n",
      "3.548264503479004\n",
      "3.534310817718506\n"
     ]
    }
   ],
   "source": [
    "for i in range(100):\n",
    "    \n",
    "    # without minibatch construction \n",
    "    #ix = torch.randint(0, X.shape[0], (32,))\n",
    "    \n",
    "    # Forward pass\n",
    "    emb = C[X] # 32x3x2\n",
    "    h = torch.tanh(emb.view(-1,6) @ W1 +b1) # 32x100\n",
    "    logits = h @ W2 + b2 # 32x27\n",
    "    \n",
    "    loss = F.cross_entropy(logits,Y)\n",
    "    print(loss.item())\n",
    "    \n",
    "    # Backward pass\n",
    "\n",
    "    for p in parameters:\n",
    "        p.grad = None\n",
    "    loss.backward()\n",
    "    for p in parameters:\n",
    "        p.data += -0.1 * p.grad\n",
    "\n"
   ]
  },
  {
   "cell_type": "code",
   "execution_count": 117,
   "id": "a8d41380",
   "metadata": {},
   "outputs": [
    {
     "name": "stdout",
     "output_type": "stream",
     "text": [
      "19.320125579833984\n",
      "17.22045135498047\n",
      "14.70096206665039\n",
      "15.035167694091797\n",
      "19.60096549987793\n",
      "14.961915016174316\n",
      "13.901679992675781\n",
      "13.000765800476074\n",
      "13.970040321350098\n",
      "13.72057819366455\n",
      "9.860956192016602\n",
      "12.016027450561523\n",
      "13.155502319335938\n",
      "12.895930290222168\n",
      "10.829681396484375\n",
      "12.06806755065918\n",
      "8.836010932922363\n",
      "10.307255744934082\n",
      "10.65571117401123\n",
      "9.116101264953613\n",
      "9.745967864990234\n",
      "10.037481307983398\n",
      "7.277383327484131\n",
      "8.791037559509277\n",
      "8.098334312438965\n",
      "7.412832260131836\n",
      "7.477203369140625\n",
      "7.157872200012207\n",
      "7.70289945602417\n",
      "7.83073616027832\n",
      "6.922931671142578\n",
      "5.434125900268555\n",
      "7.270839691162109\n",
      "6.099024772644043\n",
      "5.092657089233398\n",
      "5.816243648529053\n",
      "4.402143955230713\n",
      "6.312825679779053\n",
      "5.607986927032471\n",
      "5.023168563842773\n",
      "6.340659141540527\n",
      "5.702691078186035\n",
      "6.344951152801514\n",
      "6.911418914794922\n",
      "4.665240287780762\n",
      "5.206332206726074\n",
      "5.831378936767578\n",
      "6.2380146980285645\n",
      "5.332345008850098\n",
      "5.820827484130859\n",
      "4.056064128875732\n",
      "4.215328216552734\n",
      "4.503229141235352\n",
      "4.6998162269592285\n",
      "4.9002685546875\n",
      "5.392879962921143\n",
      "3.938955068588257\n",
      "4.765501976013184\n",
      "4.788853168487549\n",
      "5.4545159339904785\n",
      "5.571786403656006\n",
      "5.714920520782471\n",
      "4.4990410804748535\n",
      "3.7771620750427246\n",
      "6.349655628204346\n",
      "4.105679035186768\n",
      "4.516756057739258\n",
      "5.826406478881836\n",
      "3.8691225051879883\n",
      "3.6381006240844727\n",
      "4.471659183502197\n",
      "3.90859317779541\n",
      "5.335592269897461\n",
      "4.636082649230957\n",
      "4.064970970153809\n",
      "5.08664083480835\n",
      "5.468389511108398\n",
      "2.973928928375244\n",
      "4.585460186004639\n",
      "4.2319865226745605\n",
      "3.7858943939208984\n",
      "4.659907817840576\n",
      "5.496553421020508\n",
      "3.237257957458496\n",
      "4.537384986877441\n",
      "4.411275863647461\n",
      "4.15022611618042\n",
      "3.358177900314331\n",
      "4.674102783203125\n",
      "4.4217610359191895\n",
      "3.353302478790283\n",
      "3.8944125175476074\n",
      "3.870931625366211\n",
      "4.297573566436768\n",
      "3.8159427642822266\n",
      "4.989192485809326\n",
      "4.415131568908691\n",
      "3.749431848526001\n",
      "3.624579429626465\n",
      "2.5971388816833496\n"
     ]
    }
   ],
   "source": [
    "for i in range(100):\n",
    "    \n",
    "    # with minibatch construction \n",
    "    ix = torch.randint(0, X.shape[0], (32,))  # Gradient oscillates but calculation is faster\n",
    "    \n",
    "    # Forward pass\n",
    "    emb = C[X[ix]] # 32x3x2\n",
    "    h = torch.tanh(emb.view(-1,6) @ W1 +b1) # 32x100\n",
    "    logits = h @ W2 + b2 # 32x27\n",
    "    \n",
    "    loss = F.cross_entropy(logits,Y[ix])\n",
    "    print(loss.item())\n",
    "    \n",
    "    # Backward pass\n",
    "\n",
    "    for p in parameters:\n",
    "        p.grad = None\n",
    "    loss.backward()\n",
    "    for p in parameters:\n",
    "        p.data += -0.1 * p.grad"
   ]
  },
  {
   "cell_type": "code",
   "execution_count": 118,
   "id": "75f8a8e1",
   "metadata": {},
   "outputs": [],
   "source": [
    "# learning rate stats\n",
    "lre = torch.linspace(-3, 0, 1000) # will uniformly distribute numbers from -3 to 0 of length 1000\n",
    "lrs = 10**lre # ranges from 10^-3 = 0.001 to 10^0 = 1"
   ]
  },
  {
   "cell_type": "code",
   "execution_count": 127,
   "id": "b56970cf",
   "metadata": {},
   "outputs": [],
   "source": [
    "lri = []\n",
    "lrei = []\n",
    "lossi = []\n",
    "\n",
    "for i in range(1000):\n",
    "    \n",
    "    # with minibatch construction \n",
    "    ix = torch.randint(0, X.shape[0], (32,))  # Gradient oscillates but calculation is faster\n",
    "    \n",
    "    # Forward pass\n",
    "    emb = C[X[ix]] # 32x3x2\n",
    "    h = torch.tanh(emb.view(-1,6) @ W1 +b1) # 32x100\n",
    "    logits = h @ W2 + b2 # 32x27\n",
    "    \n",
    "    loss = F.cross_entropy(logits,Y[ix])\n",
    "    #print(loss.item())\n",
    "    lri.append(lrs[i])\n",
    "    lossi.append(loss.item())\n",
    "    lrei.append(lre[i])\n",
    "    \n",
    "    # Backward pass\n",
    "\n",
    "    for p in parameters:\n",
    "        p.grad = None\n",
    "    loss.backward()\n",
    "    for p in parameters:\n",
    "        p.data += -lrs[i] * p.grad\n",
    "        \n",
    "        \n",
    "        \n",
    "    "
   ]
  },
  {
   "cell_type": "code",
   "execution_count": 128,
   "id": "19163f7a",
   "metadata": {},
   "outputs": [
    {
     "data": {
      "text/plain": [
       "[<matplotlib.lines.Line2D at 0x7fc983731ae0>]"
      ]
     },
     "execution_count": 128,
     "metadata": {},
     "output_type": "execute_result"
    },
    {
     "data": {
      "image/png": "[encoded data removed]",
      "text/plain": [
       "<Figure size 640x480 with 1 Axes>"
      ]
     },
     "metadata": {},
     "output_type": "display_data"
    }
   ],
   "source": [
    "plt.plot(lri,lossi)"
   ]
  },
  {
   "cell_type": "code",
   "execution_count": 131,
   "id": "c312fe24",
   "metadata": {},
   "outputs": [
    {
     "data": {
      "text/plain": [
       "[<matplotlib.lines.Line2D at 0x7fc9837abfd0>]"
      ]
     },
     "execution_count": 131,
     "metadata": {},
     "output_type": "execute_result"
    },
    {
     "data": {
      "image/png": "[encoded data removed]",
      "text/plain": [
       "<Figure size 640x480 with 1 Axes>"
      ]
     },
     "metadata": {},
     "output_type": "display_data"
    }
   ],
   "source": [
    "plt.plot(lrei,lossi) # plotting the exponents"
   ]
  },
  {
   "cell_type": "code",
   "execution_count": 140,
   "id": "42f1ed74",
   "metadata": {},
   "outputs": [],
   "source": [
    "# lri = []\n",
    "# lrei = []\n",
    "# lossi = []\n",
    "# Updating the learning rate to 0.01 based on statistics\n",
    "\n",
    "for i in range(1000):\n",
    "    \n",
    "    # with minibatch construction \n",
    "    ix = torch.randint(0, X.shape[0], (32,))  # Gradient oscillates but calculation is faster\n",
    "    \n",
    "    # Forward pass\n",
    "    emb = C[X[ix]] # 32x3x2\n",
    "    h = torch.tanh(emb.view(-1,6) @ W1 +b1) # 32x100\n",
    "    logits = h @ W2 + b2 # 32x27\n",
    "    \n",
    "    loss = F.cross_entropy(logits,Y[ix])\n",
    "    #print(loss.item())\n",
    "    #lri.append(lrs[i])\n",
    "    #lossi.append(loss.item())\n",
    "    #lrei.append(lre[i])\n",
    "    \n",
    "    # Backward pass\n",
    "    \n",
    "    #lr = lrs[i]\n",
    "    lr = 0.1\n",
    "    \n",
    "    for p in parameters:\n",
    "        p.grad = None\n",
    "    loss.backward()\n",
    "    for p in parameters:\n",
    "        p.data += -lr * p.grad\n",
    "        "
   ]
  },
  {
   "cell_type": "code",
   "execution_count": 141,
   "id": "aa819d86",
   "metadata": {},
   "outputs": [
    {
     "data": {
      "text/plain": [
       "2.3219008445739746"
      ]
     },
     "execution_count": 141,
     "metadata": {},
     "output_type": "execute_result"
    }
   ],
   "source": [
    "loss.item()  # for last iterations, we can reduce lr to reduce loss further"
   ]
  },
  {
   "cell_type": "markdown",
   "id": "014edad5",
   "metadata": {},
   "source": [
    "### Splitting datasets into train - 80%, dev/val - 10%, test - 10%\n"
   ]
  },
  {
   "cell_type": "code",
   "execution_count": 142,
   "id": "61640b78",
   "metadata": {},
   "outputs": [
    {
     "name": "stdout",
     "output_type": "stream",
     "text": [
      "torch.Size([182625, 3]) torch.Size([182625])\n",
      "torch.Size([22655, 3]) torch.Size([22655])\n",
      "torch.Size([22866, 3]) torch.Size([22866])\n"
     ]
    }
   ],
   "source": [
    "# build the dataset\n",
    "block_size = 3 # context length: how many characters do we take to predict the next one?\n",
    "\n",
    "def build_dataset(words):  \n",
    "  X, Y = [], []\n",
    "  for w in words:\n",
    "\n",
    "    #print(w)\n",
    "    context = [0] * block_size\n",
    "    for ch in w + '.':\n",
    "      ix = stoi[ch]\n",
    "      X.append(context)\n",
    "      Y.append(ix)\n",
    "      #print(''.join(itos[i] for i in context), '--->', itos[ix])\n",
    "      context = context[1:] + [ix] # crop and append\n",
    "\n",
    "  X = torch.tensor(X)\n",
    "  Y = torch.tensor(Y)\n",
    "  print(X.shape, Y.shape)\n",
    "  return X, Y\n",
    "\n",
    "import random\n",
    "random.seed(42)\n",
    "random.shuffle(words)\n",
    "n1 = int(0.8*len(words))\n",
    "n2 = int(0.9*len(words))\n",
    "\n",
    "Xtr, Ytr = build_dataset(words[:n1])\n",
    "Xdev, Ydev = build_dataset(words[n1:n2])\n",
    "Xte, Yte = build_dataset(words[n2:])\n"
   ]
  },
  {
   "cell_type": "code",
   "execution_count": 143,
   "id": "b9abb669",
   "metadata": {},
   "outputs": [
    {
     "name": "stdout",
     "output_type": "stream",
     "text": [
      "total words - 32033, training words - 25626, val words - 3203, test words - 3204\n"
     ]
    }
   ],
   "source": [
    "print(f'total words - {len(words)}, training words - {n1}, val words - {n2-n1}, test words - {len(words)-n2}')"
   ]
  },
  {
   "cell_type": "code",
   "execution_count": 145,
   "id": "468a8c9b",
   "metadata": {},
   "outputs": [],
   "source": [
    "# Training only on train datasets (Xtr,Ytr)\n",
    "\n",
    "for i in range(30000):\n",
    "    \n",
    "    # with minibatch construction \n",
    "    ix = torch.randint(0, Xtr.shape[0], (32,))  # Gradient oscillates but calculation is faster\n",
    "    \n",
    "    # Forward pass\n",
    "    emb = C[Xtr[ix]] # 32x3x2\n",
    "    h = torch.tanh(emb.view(-1,6) @ W1 +b1) # 32x100\n",
    "    logits = h @ W2 + b2 # 32x27\n",
    "    \n",
    "    loss = F.cross_entropy(logits,Ytr[ix])\n",
    "    #print(loss.item())\n",
    "    #lri.append(lrs[i])\n",
    "    #lossi.append(loss.item())\n",
    "    #lrei.append(lre[i])\n",
    "    \n",
    "    # Backward pass\n",
    "    \n",
    "    #lr = lrs[i]\n",
    "    lr = 0.1\n",
    "    \n",
    "    for p in parameters:\n",
    "        p.grad = None\n",
    "    loss.backward()\n",
    "    for p in parameters:\n",
    "        p.data += -lr * p.grad\n",
    "        "
   ]
  },
  {
   "cell_type": "code",
   "execution_count": 148,
   "id": "14d7d044",
   "metadata": {},
   "outputs": [
    {
     "data": {
      "text/plain": [
       "tensor(2.4231, grad_fn=<NllLossBackward0>)"
      ]
     },
     "execution_count": 148,
     "metadata": {},
     "output_type": "execute_result"
    }
   ],
   "source": [
    "# Evaluate the train set loss\n",
    "\n",
    "emb = C[Xtr] \n",
    "h = torch.tanh(emb.view(-1, 6) @ W1 + b1) \n",
    "logits = h @ W2 + b2 \n",
    "loss = F.cross_entropy(logits, Ytr)\n",
    "loss"
   ]
  },
  {
   "cell_type": "code",
   "execution_count": 151,
   "id": "9cfdc43e",
   "metadata": {},
   "outputs": [
    {
     "data": {
      "text/plain": [
       "tensor(2.4260, grad_fn=<NllLossBackward0>)"
      ]
     },
     "execution_count": 151,
     "metadata": {},
     "output_type": "execute_result"
    }
   ],
   "source": [
    "# Evaluate the val set loss\n",
    "\n",
    "emb = C[Xdev] \n",
    "h = torch.tanh(emb.view(-1, 6) @ W1 + b1) \n",
    "logits = h @ W2 + b2 \n",
    "loss = F.cross_entropy(logits, Ydev)\n",
    "loss"
   ]
  },
  {
   "cell_type": "code",
   "execution_count": 150,
   "id": "7bcd31bb",
   "metadata": {},
   "outputs": [
    {
     "data": {
      "image/png": "[encoded data removed]",
      "text/plain": [
       "<Figure size 800x800 with 1 Axes>"
      ]
     },
     "metadata": {},
     "output_type": "display_data"
    }
   ],
   "source": [
    "# visualize dimensions 0 and 1 of the embedding matrix C for all characters\n",
    "plt.figure(figsize=(8,8))\n",
    "plt.scatter(C[:,0].data, C[:,1].data, s=200)\n",
    "for i in range(C.shape[0]):\n",
    "    plt.text(C[i,0].item(), C[i,1].item(), itos[i], ha=\"center\", va=\"center\", color='white')\n",
    "plt.grid('minor')"
   ]
  },
  {
   "cell_type": "code",
   "execution_count": 152,
   "id": "a3e7b643",
   "metadata": {},
   "outputs": [
    {
     "data": {
      "text/plain": [
       "11897"
      ]
     },
     "execution_count": 152,
     "metadata": {},
     "output_type": "execute_result"
    }
   ],
   "source": [
    "# Increase the parameters size to improve training\n",
    "\n",
    "g = torch.Generator().manual_seed(2147483647) # for reproducibility\n",
    "C = torch.randn((27, 10), generator=g)\n",
    "W1 = torch.randn((30, 200), generator=g)\n",
    "b1 = torch.randn(200, generator=g)\n",
    "W2 = torch.randn((200, 27), generator=g)\n",
    "b2 = torch.randn(27, generator=g)\n",
    "parameters = [C, W1, b1, W2, b2]\n",
    "\n",
    "for p in parameters:\n",
    "    p.requires_grad = True\n",
    "\n",
    "sum(p.nelement() for p in parameters) # total no. of parameters"
   ]
  },
  {
   "cell_type": "code",
   "execution_count": 153,
   "id": "0ad2cb19",
   "metadata": {},
   "outputs": [],
   "source": [
    "stepi, lossi, lri = [], [], []"
   ]
  },
  {
   "cell_type": "code",
   "execution_count": 164,
   "id": "53371c60",
   "metadata": {},
   "outputs": [],
   "source": [
    "for i in range(20000):\n",
    "  \n",
    "  # minibatch construct\n",
    "  ix = torch.randint(0, Xtr.shape[0], (32,))\n",
    "  \n",
    "  # forward pass\n",
    "  emb = C[Xtr[ix]] # (32, 3, 10)\n",
    "  h = torch.tanh(emb.view(-1, 30) @ W1 + b1) # (32, 200)\n",
    "  logits = h @ W2 + b2 # (32, 27)\n",
    "  loss = F.cross_entropy(logits, Ytr[ix])\n",
    "  #print(loss.item())\n",
    "  \n",
    "  # backward pass\n",
    "  for p in parameters:\n",
    "    p.grad = None\n",
    "  loss.backward()\n",
    "  \n",
    "  # update\n",
    "  #lr = lrs[i]\n",
    "  lr = 0.1 if i < 100000 else 0.01\n",
    "  for p in parameters:\n",
    "    p.data += -lr * p.grad\n",
    "\n",
    "  # track stats\n",
    "  #lri.append(lre[i])\n",
    "  stepi.append(i)\n",
    "  lossi.append(loss.log10().item())   # log loss for better view instead of L shape, this will squash"
   ]
  },
  {
   "cell_type": "code",
   "execution_count": 165,
   "id": "f463c872",
   "metadata": {},
   "outputs": [
    {
     "data": {
      "text/plain": [
       "[<matplotlib.lines.Line2D at 0x7fc962659810>]"
      ]
     },
     "execution_count": 165,
     "metadata": {},
     "output_type": "execute_result"
    },
    {
     "data": {
      "image/png": "[encoded data removed]",
      "text/plain": [
       "<Figure size 640x480 with 1 Axes>"
      ]
     },
     "metadata": {},
     "output_type": "display_data"
    }
   ],
   "source": [
    "plt.plot(stepi, lossi) # noise is due to minibatch - gradient oscillates"
   ]
  },
  {
   "cell_type": "code",
   "execution_count": 166,
   "id": "f79102f1",
   "metadata": {},
   "outputs": [
    {
     "data": {
      "text/plain": [
       "tensor(2.3172, grad_fn=<NllLossBackward0>)"
      ]
     },
     "execution_count": 166,
     "metadata": {},
     "output_type": "execute_result"
    }
   ],
   "source": [
    "# Evaluate the train set loss\n",
    "\n",
    "emb = C[Xtr] \n",
    "h = torch.tanh(emb.view(-1, 30) @ W1 + b1) \n",
    "logits = h @ W2 + b2 \n",
    "loss = F.cross_entropy(logits, Ytr)\n",
    "loss"
   ]
  },
  {
   "cell_type": "code",
   "execution_count": 167,
   "id": "75231956",
   "metadata": {},
   "outputs": [
    {
     "data": {
      "text/plain": [
       "tensor(2.3429, grad_fn=<NllLossBackward0>)"
      ]
     },
     "execution_count": 167,
     "metadata": {},
     "output_type": "execute_result"
    }
   ],
   "source": [
    "# Evaluate the val set loss\n",
    "\n",
    "emb = C[Xdev] \n",
    "h = torch.tanh(emb.view(-1, 30) @ W1 + b1) \n",
    "logits = h @ W2 + b2 \n",
    "loss = F.cross_entropy(logits, Ydev)\n",
    "loss"
   ]
  },
  {
   "cell_type": "markdown",
   "id": "d5c0a3bc",
   "metadata": {},
   "source": [
    "### Sampling from the trained model"
   ]
  },
  {
   "cell_type": "code",
   "execution_count": 168,
   "id": "dc046f57",
   "metadata": {},
   "outputs": [
    {
     "data": {
      "text/plain": [
       "torch.Size([1, 3, 10])"
      ]
     },
     "execution_count": 168,
     "metadata": {},
     "output_type": "execute_result"
    }
   ],
   "source": [
    "context = [0] * block_size\n",
    "C[torch.tensor([context])].shape"
   ]
  },
  {
   "cell_type": "code",
   "execution_count": 169,
   "id": "8c865be5",
   "metadata": {},
   "outputs": [
    {
     "name": "stdout",
     "output_type": "stream",
     "text": [
      "eriah.\n",
      "myah.\n",
      "ree.\n",
      "mad.\n",
      "rham.\n",
      "reverscendram.\n",
      "raicee.\n",
      "arlie.\n",
      "emi.\n",
      "jen.\n",
      "eden.\n",
      "ean.\n",
      "aar.\n",
      "elynn.\n",
      "honel.\n",
      "noselberghai.\n",
      "jerick.\n",
      "jowellee.\n",
      "non.\n",
      "canue.\n"
     ]
    }
   ],
   "source": [
    "# sample from the model\n",
    "g = torch.Generator().manual_seed(2147483647 + 10)\n",
    "\n",
    "for _ in range(20):  # 20 sample words from the trained model\n",
    "    \n",
    "    out = []\n",
    "    context = [0] * block_size # initialize with all ...\n",
    "    while True:\n",
    "      emb = C[torch.tensor([context])] # (1,block_size,d)\n",
    "      h = torch.tanh(emb.view(1, -1) @ W1 + b1) \n",
    "      logits = h @ W2 + b2\n",
    "      probs = F.softmax(logits, dim=1)\n",
    "      ix = torch.multinomial(probs, num_samples=1, generator=g).item()\n",
    "      context = context[1:] + [ix]\n",
    "      out.append(ix)\n",
    "      if ix == 0:\n",
    "        break\n",
    "    \n",
    "    print(''.join(itos[i] for i in out))"
   ]
  },
  {
   "cell_type": "code",
   "execution_count": 170,
   "id": "889b9ff1",
   "metadata": {},
   "outputs": [
    {
     "data": {
      "text/plain": [
       "torch.Size([1, 27])"
      ]
     },
     "execution_count": 170,
     "metadata": {},
     "output_type": "execute_result"
    }
   ],
   "source": [
    "probs.shape"
   ]
  },
  {
   "cell_type": "code",
   "execution_count": 111,
   "id": "b0e4972a",
   "metadata": {},
   "outputs": [],
   "source": []
  },
  {
   "cell_type": "code",
   "execution_count": null,
   "id": "d9e6fdc2",
   "metadata": {},
   "outputs": [],
   "source": []
  },
  {
   "cell_type": "code",
   "execution_count": null,
   "id": "fb2f4088",
   "metadata": {},
   "outputs": [],
   "source": []
  },
  {
   "cell_type": "code",
   "execution_count": null,
   "id": "9c8fec6e",
   "metadata": {},
   "outputs": [],
   "source": []
  },
  {
   "cell_type": "code",
   "execution_count": null,
   "id": "7447a47c",
   "metadata": {},
   "outputs": [],
   "source": []
  }
 ],
 "metadata": {
  "kernelspec": {
   "display_name": "Python 3",
   "language": "python",
   "name": "python3"
  },
  "language_info": {
   "codemirror_mode": {
    "name": "ipython",
    "version": 3
   },
   "file_extension": ".py",
   "mimetype": "text/x-python",
   "name": "python",
   "nbconvert_exporter": "python",
   "pygments_lexer": "ipython3",
   "version": "3.9.4"
  }
 },
 "nbformat": 4,
 "nbformat_minor": 5
}
